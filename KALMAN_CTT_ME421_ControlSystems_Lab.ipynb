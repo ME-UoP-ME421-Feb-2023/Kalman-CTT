{
  "nbformat": 4,
  "nbformat_minor": 0,
  "metadata": {
    "colab": {
      "provenance": [],
      "include_colab_link": true
    },
    "kernelspec": {
      "name": "python3",
      "display_name": "Python 3"
    },
    "language_info": {
      "name": "python"
    }
  },
  "cells": [
    {
      "cell_type": "markdown",
      "metadata": {
        "id": "view-in-github",
        "colab_type": "text"
      },
      "source": [
        "<a href=\"https://colab.research.google.com/github/ME-UoP-ME421/Kalman-CTT/blob/main/KALMAN_CTT_ME421_ControlSystems_Lab.ipynb\" target=\"_parent\"><img src=\"https://colab.research.google.com/assets/colab-badge.svg\" alt=\"Open In Colab\"/></a>"
      ]
    },
    {
      "cell_type": "markdown",
      "source": [
        "#Instructions"
      ],
      "metadata": {
        "id": "tjwc7ZikCWjn"
      }
    },
    {
      "cell_type": "markdown",
      "source": [
        "* This is a group assignment. Complete the activities in groups that were assigned for ME421 for the vibrations lab.\n",
        "\n",
        "* Make a copy of this and save it in your group github group repository.\n",
        "\n",
        "* Do all your work, EXCLUSIVELY, in that saved notebook. Your github commits will serve as a refelection of your individual contributions. It will constitute 25% of your final grade for the lab.\n",
        "\n",
        "* Complete all the first 3 tasks by 21/06/2023 and demonstrate the work in the class on 21/06/2023.\n",
        "\n",
        "* Complete Tasks#1 and Task#2 by 5:00PM on 14/06/2023\n",
        "\n",
        "* Complete Tasks#3 and the Task#4 by 5:00PM on 21/06/2023 and demonstrate the work in the class on 21/06/2023.\n",
        "\n",
        "* Complete Task#5 by 5:00PM on 28/06/2023."
      ],
      "metadata": {
        "id": "pOeY40kCCZIY"
      }
    },
    {
      "cell_type": "markdown",
      "source": [
        "#References"
      ],
      "metadata": {
        "id": "xQxmvsoX2wtl"
      }
    },
    {
      "cell_type": "markdown",
      "source": [
        "* https://colab.research.google.com/github/mugalan/classical-mechanics-from-a-geometric-point-of-view/blob/main/rigid-body-control/Mugas_Rigid_Body_Control.ipynb\n",
        "\n",
        "* https://github.com/mugalan/classical-mechanics-from-a-geometric-point-of-view/blob/main/rigid-body-control/MaithriPalaDHS_RigidBodyPIDControl_IITB_18_03_2023.pdf"
      ],
      "metadata": {
        "id": "N2PYkHmG2y9o"
      }
    },
    {
      "cell_type": "markdown",
      "source": [
        "#Task#1"
      ],
      "metadata": {
        "id": "JhWYC6Kv2l4k"
      }
    },
    {
      "cell_type": "markdown",
      "metadata": {
        "id": "GjPELOm2sJQg"
      },
      "source": [
        "Conside a rigid body moving in space. Let $\\mathbf{b}$ be a body fixed frame with the origin coinciding with that of the center of mass of the body, $M$ be the tatal mass of the body, $\\mathbb{I}$ be the inertia tensor of the body with respect to the body frame $\\mathbf{b}$, $f^e$ be the resultant total external interactions acting on the particles of the body, and $\\tau^e$ be the total resultant of the moments of the external interactions about the center of mass of the body.\n",
        "\n",
        "Show that a general rigid body is descibed by the following simple equations in an inertial frame $\\mathbf{e}$ where the moments are taken about the center of mass of the rigid body."
      ]
    },
    {
      "cell_type": "markdown",
      "metadata": {
        "id": "2FFWl8Whs8HJ"
      },
      "source": [
        "\\begin{align}\n",
        "\\dot{o}&=\\frac{1}{M}p\\\\\n",
        "\\dot{R}&=\\widehat{\\omega}R,\\\\\n",
        "\\dot{p}&=f^e+f^u,\\\\\n",
        "\\dot{\\pi}&=\\tau^e+\\tau^u,\n",
        "\\end{align}\n",
        "where\n",
        "\\begin{align}\n",
        "\\omega &=(\\mathbb{I}_c^R)^{-1}\\pi,\n",
        "\\end{align}\n",
        "Here we have split the force and control moments into unmanipulatable and manipulatable (control) part. The manipulatable (control) part will be denoted by a superscript $u$."
      ]
    },
    {
      "cell_type": "markdown",
      "source": [
        "Let the inertial frame with the origin $O$ be $e$ and body frame be b(t) and let $O'$ be the origin of the frame $b$. \\\\\n",
        "Let, $OO' = eo(t)$. By using the Rotational matrix $R(t)$ we can uniquely relate the body frame $b$ with $e$ as, \\\\\n",
        "$b(t) = eR(t)$ \\\\\n",
        "and the position of the origin $o(t)$ in $o \\in \\mathbb{R}^3$, and $R$ $ \\in SO(3)$ defines the configuration that is unique to the body by using a special $3 \\times 3$ matrix. But, we can also define this $(o,R) \\in \\mathbb{R}^3 \\times SO(3)$ with a unique $4 \\times 4$ matrix $E$ which will be an special euclidean representation as,\n",
        "\\begin{align}\n",
        "E = \\begin{bmatrix} R & o \\\\ 0 & 1\\end{bmatrix}\n",
        "\\end{align} \\\\\n",
        "We denote these type of special space matrices as $SE(3)$ \\\\\n",
        "In the previous session we did we declared a special matrix $\\Omega$ which had the following relationship,\n",
        "\\begin{align}\n",
        "\\widehat{\\Omega}=R^T\\dot{R} & &-> (1)\n",
        "\\end{align} \\\\\n",
        "\n",
        "Where, $\\Omega$ will reresent the body angular velocity of the rigid body with an magnitude of $||\\Omega||$ around the axis of $\\Omega$ in the body frame $b$ for an instantaneous rotation. This same quantity can be repsrented in the $e$ frame as,\n",
        "\\begin{align}\n",
        "\\omega=R\\Omega\n",
        "\\end{align}\n",
        "therefor, we can obtain,\n",
        "\\begin{align}\n",
        "R^T\\omega=\\Omega\n",
        "\\end{align}\n",
        "Where, $R$ rotation matrix relates the frames $e$ and $b$. From the above equation we can relate to $\\widehat{\\Omega}$\n",
        "\\begin{align}\n",
        "\\widehat{\\Omega} &= \\widehat{R^T\\omega} \\\\\n",
        "\\widehat{\\Omega} &= R^T\\widehat{\\omega}R\n",
        "\\end{align}\n",
        "From the equation $1$,\n",
        "\\begin{align}\n",
        "R^T\\widehat{\\omega}R &= R^T\\dot{R} \\\\\n",
        "\\widehat{\\omega}R &= \\dot{R}\n",
        "\\end{align}\n",
        "\n",
        "\n",
        "---\n",
        "\n",
        "\n"
      ],
      "metadata": {
        "id": "XiZ5wLGA-Fxu"
      }
    },
    {
      "cell_type": "markdown",
      "source": [
        "#Task#2"
      ],
      "metadata": {
        "id": "PT5T8y9-3h1H"
      }
    },
    {
      "cell_type": "markdown",
      "source": [
        "Simulate the motion of a quadrotor UAV without resorting any parameterization of $SO(3)$ such as Euler angles or quaternions."
      ],
      "metadata": {
        "id": "iETMxXB04IZj"
      }
    },
    {
      "cell_type": "markdown",
      "source": [
        "#Task#3"
      ],
      "metadata": {
        "id": "iYtoUarB4L6Q"
      }
    },
    {
      "cell_type": "markdown",
      "source": [
        "Deerive a PID controller for the attitude control of a quadrorotor and use simulations to demibstrate the very large region of stability of the controller"
      ],
      "metadata": {
        "id": "AxOY5o-34TCz"
      }
    },
    {
      "cell_type": "markdown",
      "source": [
        "Here are few example our own implementations of this controller.\n",
        "\n",
        "* https://youtu.be/6E9WDQNVSYA\n",
        "* https://youtu.be/uUKxXImRMOA\n",
        "* https://youtu.be/zq05N8m_9SA\n",
        "* https://youtu.be/J5dThZGZN2g\n",
        "* https://youtu.be/J5MMp6Be3tU\n",
        "* https://youtu.be/6ZQgE1FI6Wc"
      ],
      "metadata": {
        "id": "cInu25giFEXw"
      }
    },
    {
      "cell_type": "markdown",
      "source": [
        "#Task#4"
      ],
      "metadata": {
        "id": "o6XRW2MR4nVw"
      }
    },
    {
      "cell_type": "markdown",
      "source": [
        "Derive a specialization of the controller develoed in Task#3 for the problem of stabilzing an inverted pendulum on a cart."
      ],
      "metadata": {
        "id": "u9vdw-yM4rem"
      }
    },
    {
      "cell_type": "markdown",
      "source": [
        "#Task#5"
      ],
      "metadata": {
        "id": "jkEiEv8sEPhG"
      }
    },
    {
      "cell_type": "markdown",
      "source": [
        " Experimentally verify the stability properties of the controller derived in Task#5 using the experimental setup available in the applied mechanics lab."
      ],
      "metadata": {
        "id": "w2WRdKSTEQ7i"
      }
    }
  ]
}