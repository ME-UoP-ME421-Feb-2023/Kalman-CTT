{
  "nbformat": 4,
  "nbformat_minor": 0,
  "metadata": {
    "colab": {
      "provenance": [],
      "include_colab_link": true
    },
    "kernelspec": {
      "name": "python3",
      "display_name": "Python 3"
    },
    "language_info": {
      "name": "python"
    }
  },
  "cells": [
    {
      "cell_type": "markdown",
      "metadata": {
        "id": "view-in-github",
        "colab_type": "text"
      },
      "source": [
        "<a href=\"https://colab.research.google.com/github/ME-UoP-ME421/Kalman-CTT/blob/main/KALMAN_CTT_ME421_ControlSystems_Lab.ipynb\" target=\"_parent\"><img src=\"https://colab.research.google.com/assets/colab-badge.svg\" alt=\"Open In Colab\"/></a>"
      ]
    },
    {
      "cell_type": "markdown",
      "source": [
        "#Instructions"
      ],
      "metadata": {
        "id": "tjwc7ZikCWjn"
      }
    },
    {
      "cell_type": "markdown",
      "source": [
        "* This is a group assignment. Complete the activities in groups that were assigned for ME421 for the vibrations lab.\n",
        "\n",
        "* Make a copy of this and save it in your group github group repository.\n",
        "\n",
        "* Do all your work, EXCLUSIVELY, in that saved notebook. Your github commits will serve as a refelection of your individual contributions. It will constitute 25% of your final grade for the lab.\n",
        "\n",
        "* Complete all the first 3 tasks by 21/06/2023 and demonstrate the work in the class on 21/06/2023.\n",
        "\n",
        "* Complete Tasks#1 and Task#2 by 5:00PM on 14/06/2023\n",
        "\n",
        "* Complete Tasks#3 and the Task#4 by 5:00PM on 21/06/2023 and demonstrate the work in the class on 21/06/2023.\n",
        "\n",
        "* Complete Task#5 by 5:00PM on 28/06/2023."
      ],
      "metadata": {
        "id": "pOeY40kCCZIY"
      }
    },
    {
      "cell_type": "markdown",
      "source": [
        "#References"
      ],
      "metadata": {
        "id": "xQxmvsoX2wtl"
      }
    },
    {
      "cell_type": "markdown",
      "source": [
        "* https://colab.research.google.com/github/mugalan/classical-mechanics-from-a-geometric-point-of-view/blob/main/rigid-body-control/Mugas_Rigid_Body_Control.ipynb\n",
        "\n",
        "* https://github.com/mugalan/classical-mechanics-from-a-geometric-point-of-view/blob/main/rigid-body-control/MaithriPalaDHS_RigidBodyPIDControl_IITB_18_03_2023.pdf"
      ],
      "metadata": {
        "id": "N2PYkHmG2y9o"
      }
    },
    {
      "cell_type": "markdown",
      "source": [
        "#Task#1"
      ],
      "metadata": {
        "id": "JhWYC6Kv2l4k"
      }
    },
    {
      "cell_type": "markdown",
      "metadata": {
        "id": "GjPELOm2sJQg"
      },
      "source": [
        "Conside a rigid body moving in space. Let $\\mathbf{b}$ be a body fixed frame with the origin coinciding with that of the center of mass of the body, $M$ be the tatal mass of the body, $\\mathbb{I}$ be the inertia tensor of the body with respect to the body frame $\\mathbf{b}$, $f^e$ be the resultant total external interactions acting on the particles of the body, and $\\tau^e$ be the total resultant of the moments of the external interactions about the center of mass of the body.\n",
        "\n",
        "Show that a general rigid body is descibed by the following simple equations in an inertial frame $\\mathbf{e}$ where the moments are taken about the center of mass of the rigid body."
      ]
    },
    {
      "cell_type": "markdown",
      "metadata": {
        "id": "2FFWl8Whs8HJ"
      },
      "source": [
        "\\begin{align}\n",
        "\\dot{o}&=\\frac{1}{M}p\\\\\n",
        "\\dot{R}&=\\widehat{\\omega}R,\\\\\n",
        "\\dot{p}&=f^e+f^u,\\\\\n",
        "\\dot{\\pi}&=\\tau^e+\\tau^u,\n",
        "\\end{align}\n",
        "where\n",
        "\\begin{align}\n",
        "\\omega &=(\\mathbb{I}_c^R)^{-1}\\pi,\n",
        "\\end{align}\n",
        "Here we have split the force and control moments into unmanipulatable and manipulatable (control) part. The manipulatable (control) part will be denoted by a superscript $u$."
      ]
    },
    {
      "cell_type": "markdown",
      "source": [
        "Let the inertial frame with the origin $O$ be $e$ and body frame be b(t) and let $O'$ be the origin of the frame $b$. \\\\\n",
        "Let, $OO' = eo(t)$. By using the Rotational matrix $R(t)$ we can uniquely relate the body frame $b$ with $e$ as, \\\\\n",
        "$b(t) = eR(t)$ \\\\\n",
        "and the position of the origin $o(t)$ in $o \\in \\mathbb{R}^3$, and $R$ $ \\in SO(3)$ defines the configuration that is unique to the body by using a special $3 \\times 3$ matrix. But, we can also define this $(o,R) \\in \\mathbb{R}^3 \\times SO(3)$ with a unique $4 \\times 4$ matrix $E$ which will be an special euclidean representation as,\n",
        "\\begin{align}\n",
        "E = \\begin{bmatrix} R & o \\\\ 0 & 1\\end{bmatrix}\n",
        "\\end{align} \\\\\n",
        "We denote these type of special space matrices as $SE(3)$ \\\\\n",
        "In the previous session we did we declared a special matrix $\\Omega$ which had the following relationship,\n",
        "\\begin{align}\n",
        "\\widehat{\\Omega}=R^T\\dot{R} & &-> (1)\n",
        "\\end{align} \\\\\n",
        "\n",
        "Where, $\\Omega$ will reresent the body angular velocity of the rigid body with an magnitude of $||\\Omega||$ around the axis of $\\Omega$ in the body frame $b$ for an instantaneous rotation. This same quantity can be repsrented in the $e$ frame as,\n",
        "\\begin{align}\n",
        "\\omega=R\\Omega\n",
        "\\end{align}\n",
        "therefor, we can obtain,\n",
        "\\begin{align}\n",
        "R^T\\omega=\\Omega\n",
        "\\end{align}\n",
        "Where, $R$ rotation matrix relates the frames $e$ and $b$. From the above equation we can relate to $\\widehat{\\Omega}$\n",
        "\\begin{align}\n",
        "\\widehat{\\Omega} &= \\widehat{R^T\\omega} \\\\\n",
        "\\widehat{\\Omega} &= R^T\\widehat{\\omega}R  & &-> (2)\n",
        "\\end{align}\n",
        "From the equation $1$,\n",
        "\\begin{align}\n",
        "R^T\\widehat{\\omega}R &= R^T\\dot{R} \\\\\n",
        "\\widehat{\\omega}R &= \\dot{R}\n",
        "\\end{align}\n",
        "\n",
        "\n",
        "---\n",
        "\n",
        "\n"
      ],
      "metadata": {
        "id": "XiZ5wLGA-Fxu"
      }
    },
    {
      "cell_type": "markdown",
      "source": [
        "The total linear momentum of a set of particales can be represented as,\n",
        "\\begin{align}\n",
        "p &= \\sum_i p_i \\\\\n",
        "p &= \\sum_i m_i(\\dot{o} + R(\\widehat{\\Omega}X_i + \\dot{X}_i))\n",
        "\\end{align} \\\\\n",
        "For rigid bodies, $\\dot{X}_i = 0_{3\\times1}$, therefor,\n",
        "\\begin{align}\n",
        "p &= \\sum_i m_i(\\dot{o} + R\\widehat{\\Omega}X_i) \\\\\n",
        "p &= \\sum_i m_i\\frac{X_i}{X_i}(\\dot{o} + R\\widehat{\\Omega}X_i) \\\\\n",
        "p &= M(\\dot{o} + R\\widehat{\\Omega}\\bar{X})\n",
        "\\end{align}\n",
        "From $2$\n",
        "\\begin{align}\n",
        "p &= M(\\dot{o} + \\widehat{\\omega}R\\bar{X})&-> (3) \\\\\n",
        "p &= M\\dot{\\bar{x}}\n",
        "\\end{align} \\\\\n",
        "where, $M$ is obtained from the total moment of the particles\n",
        "\\begin{align}\n",
        "M &= \\sum_i m_i\\bar{X} \\\\\n",
        "M &= \\frac{\\sum_i m_i{X_i}}{\\sum_i m_i}\n",
        "\\end{align} \\\\\n",
        "From 3 we can derive for $\\dot{o}$ that,\n",
        "\\begin{align}\n",
        "\\dot{o} &= \\frac{1}{M}p - \\widehat{\\omega}R\\bar{X} \\\\\n",
        "\\dot{o} &= \\frac{1}{M}p - {\\omega}\\times R\\bar{X}\n",
        "\\end{align} \\\\\n",
        "But as the origin of the frame $b$ is coincinding with the center of mass of the body $\\bar{X}=0_{3 \\times 1}$. Thus,\n",
        "\\begin{align}\n",
        "\\dot{o} &= \\frac{1}{M}p\n",
        "\\end{align}\n",
        "\n",
        "\n",
        "---\n",
        "\n"
      ],
      "metadata": {
        "id": "oHVkdG47GJon"
      }
    },
    {
      "cell_type": "markdown",
      "source": [
        "From previous practices we know that angular momentum $\\pi_i$ of a point like particle of mass $m_i$ about the origin $O'$ in the frame $b$ can be written as,\n",
        "\\begin{align}\n",
        "\\pi_i &=R(\\mathbb{I}_i\\Omega + m_iX_i \\times (R^T\\dot{o} + \\dot{X}_i))\n",
        "\\end{align} \\\\\n",
        "This can be represented in the frame $e$ by the removing the relationship with the $R$ as,\n",
        "\\begin{align}\n",
        "\\Pi_i &=(\\mathbb{I}_i\\Omega + m_iX_i \\times (R^T\\dot{o} + \\dot{X}_i))\n",
        "\\end{align} \\\\\n",
        "where, the moment of inertia of the particle is defined by the $\\mathbb{I}_i$ abount the point $O'$ in the frame $b$ as,\n",
        "\\begin{align}\n",
        "\\mathbb{I}_i &= -m_i\\widehat{X}^2_i \\\\\n",
        "\\mathbb{I}_i &= m_i(||X_i||^2I_{3\\times3} - X_iX_i^T)\n",
        "\\end{align} \\\\\n",
        "As for rigid bdoeis the partices fixed to the with respect to frame $b$, $\\dot{X}_i=0_{3\\times1}$ and From the above 2 relations for the angular momentum, we can see the following relationship among them in 2 frames,\n",
        "\\begin{align}\n",
        "\\pi_i = R\\Pi_i\n",
        "\\end{align}\n",
        "Thus giving us,\n",
        "\\begin{align}\n",
        "\\pi &= \\sum_i \\pi \\\\\n",
        "\\pi &= \\sum_i R\\Pi_i \\\\\n",
        "\\pi &=  R\\Pi\n",
        "\\end{align}\n",
        "\n",
        "\n",
        "---\n",
        "\n"
      ],
      "metadata": {
        "id": "UxrX4dsMXSNw"
      }
    },
    {
      "cell_type": "markdown",
      "source": [
        "From the $p=M\\dot{\\bar{x}} = M(\\dot{o} + R\\widehat{\\Omega}\\bar{X}) = M(\\dot{o} + R({\\Omega}\\times \\bar{X})$ we can see that,\n",
        "\\begin{align}\n",
        "M\\dot{o} \\times \\dot{\\bar{x}}&=\\dot{o} \\times p = R(\\Omega \\times \\bar{X})\\times p\n",
        "\\end{align} \\\\\n",
        "Also from the relationships of angular momentum we can see that,\n",
        "\\begin{align}\n",
        "\\pi &= R(\\mathbb{I}\\Omega +M\\bar{X} \\times R^T(\\frac{1}{M}p -R(\\Omega \\times \\bar{X}) )) \\\\\n",
        "\\pi &= R(\\mathbb{I}\\Omega +\\bar{X}\\times R^Tp + M\\bar{X} \\times \\bar{X} \\times\\Omega ) \\\\\n",
        "\\pi &= ((\\mathbb{I}+M\\widehat{\\bar{X}}^2)\\Omega + \\bar{X}\\times R^T p)) \\\\\n",
        "\\pi &= R(\\mathbb{I}_c\\Omega + \\bar{X}\\times R^Tp)\n",
        "\\end{align}\n",
        "This is done by considering, $\\mathbb{I}_c=\\mathbb{I}+M\\widehat{\\bar{X}}^2$, where $\\mathbb{I}_c$ is the inertia tensor of the body with respect to a parallel frame to the frame $b$ and the center of mass of the objectand orgin of frame are coinciding. \\\\\n",
        "From previous erivations we know that $\\Omega=R^T\\omega$, therefore we can modify the above obtained equatons as\n",
        "\\begin{align}\n",
        "\\pi &= R(\\mathbb{I}_c(R^T\\omega)) + R\\bar{X}\\times RR^Tp) \\\\\n",
        "\\pi &= (R\\mathbb{I}_cR^T)\\omega + R\\bar{X}\\times p) \\\\\n",
        "\\pi &= \\mathbb{I}_c^R\\omega + R\\bar{X}\\times p\n",
        "\\end{align}\n",
        "Where $\\mathbb{I}_c^R$ is the locked inertia tensor of the body,\n",
        "\\begin{align}\n",
        "\\mathbb{I}_c^R &= R\\mathbb{I}_cR^T \\\\\n",
        "\\mathbb{I}_c^R &= R(\\mathbb{I}+M\\widehat{\\bar{X}}^2)R^T\n",
        "\\end{align}\n",
        "This is the moment of inertia tensor of the body with respect to a frame that is parallel to the frame $e$ but the origin is coinciding with the center of mass of $O_c$\n",
        "\n",
        "\n",
        "\n",
        "\n",
        "---\n",
        "\n"
      ],
      "metadata": {
        "id": "F8bx8uZduG3m"
      }
    },
    {
      "cell_type": "markdown",
      "source": [
        "considering a set of particles rigid wrt each other.\n",
        "\n",
        "let $\\mathbf{b}$ be a body fixed frame with origin coinciding with the point $O'$ around which the moments are defined.\n",
        "\n",
        "equivalent forms of the angular momentum of the particles about a point $O'$ can be written as :\n",
        "\n",
        "considering,\n",
        "\n",
        " $\\mathbb{I}$ - the moment of inertia tensor wrt the frame $\\mathbf{b}$ with orign $O'$,\n",
        "\\begin{align}\n",
        "\\pi&=R\\left(\\mathbb{I}\\Omega+M\\bar{X}\\times R^T\\dot{o}\\right)\n",
        "\\end{align}\n",
        "\n",
        "\n",
        "considering,\n",
        "\n",
        "$\\mathbb{I}_c$ - the moment of inertia tensor wrt a frame that is parallel to $\\mathbf{b}$ and  orign coinciding with the center of mass $O_c$,\n",
        "\\begin{align}\n",
        "\\pi&=R\\left(\\mathbb{I}_c\\Omega+\\bar{X}\\times R^Tp\\right)\n",
        "\\end{align}\n",
        "\n",
        " and considering ,\n",
        "\n",
        " $\\mathbb{I}_c^R$ -the moment of inertia tensor wrt a frame that is parallel to $\\mathbf{e}$ and  orign coinciding with the center of mass $O_c$,\n",
        "\\begin{align}\n",
        "\\pi&=\\mathbb{I}_c^R\\omega+R\\bar{X}\\times p\n",
        "\\end{align}\n",
        "\n",
        "\n",
        "when the moments are taken about the center of mass of the body;\n",
        "\n",
        "\n",
        "\\begin{align}\n",
        "\\pi&=R\\mathbb{I}_c\\Omega=\\mathbb{I}_c^R\\omega\n",
        "\\end{align}\n",
        "\n",
        "therefore,\n",
        "\\begin{align}\n",
        "\\pi&=\\mathbb{I}_c^R\\omega\n",
        "\\end{align}\n",
        "\n",
        "\\begin{align}\n",
        "\\omega &=(\\mathbb{I}_c^R)^{-1}\\pi,\n",
        "\\end{align}\n",
        "\n",
        "---"
      ],
      "metadata": {
        "id": "iIp0mIRE9m67"
      }
    },
    {
      "cell_type": "markdown",
      "source": [
        "#need or not?"
      ],
      "metadata": {
        "id": "oft60PWXEd3Y"
      }
    },
    {
      "cell_type": "markdown",
      "source": [
        "Rigid or not we have shown in the section on motion of a set of interacting particles that:\n",
        "\\begin{align}\n",
        "\\dot{p}&=M\\ddot{\\bar{x}}=f^e,\\\\\n",
        "\\dot{\\pi}&=-M\\dot{o}\\times \\dot{\\bar{x}}+\\tau_e\n",
        "\\end{align}\n",
        "where $M=\\sum_{i=1}^nm_i$ is the total mass of the particles, $\\bar{x}$ is the representation of the center of mass of the set of particles in the inertial frame $\\mathbf{e}$, $p=\\sum_{i=1}^np_i$ is the total linear momentum of the system of particles, $f^e=\\sum_{i=1}^n f_i^e$ is the total resultant of the external forces acting on the particles, $\\pi =\\sum_{i=1}^n\\pi_i$ is the total angular momentum of the particles about $O'$, $\\tau^e=\\sum_{i=1}^n(x_i-o)\\times f_i^e$ is the resultant force moment of the external interactions acting on the particles about the point $O'$, and $o$ is the representation of the point $O'$ in the frame $\\mathbf{e}$.\n",
        "\n",
        "**Notice the extreme simplicity of the form of these governing equations however complicated the system of particles is.**\n",
        "\n",
        "In the case of a rigid body one can fix a frame $\\mathbf{b}$ to the body. Let $o(t)$ be the representation of the origin $O'$ of the frame $\\mathbf{b}$ with respect to $\\mathbf{e}$ and let $\\mathbf{b}=\\mathbf{e}R(t)$. Also let $\\widehat{\\Omega}=R^T\\dot{R}$ and $\\omega =R\\Omega$.\n",
        "\n",
        "Then the specification of $(o(t), R(t))$ over time completely describes the motion of the set of particles. Thus describing the motion of the set of particles amounts to the specification of $(o(t), R(t))$ over time.\n"
      ],
      "metadata": {
        "id": "Tsi_mGRzD4SJ"
      }
    },
    {
      "cell_type": "markdown",
      "source": [
        "Let $\\bar{x}'\\triangleq (\\bar{x}-o)=R\\bar{X}$. Differentiating this expression gives\n",
        "\\begin{align}\n",
        "\\dot{\\bar{x}}'&=R(\\Omega \\times \\bar{X})=\\omega \\times \\bar{x}'.\n",
        "\\end{align}\n",
        "Then the fact that $p=M\\dot{\\bar{x}}$ gives\n",
        "\\begin{align}\n",
        "\\dot{\\pi}&=-M\\dot{o}\\times \\dot{\\bar{x}}+\\tau_e=M\\dot{\\bar{x}}'\\times \\dot{\\bar{x}}+\\tau_e=\\omega \\times \\bar{x}'\\times p+\\tau_e\n",
        "\\end{align}\n",
        "\n",
        "We also saw that the rigid body kinematic equations are given by $M\\dot{o}=p-M\\omega \\times \\bar{x}'$ and $\\dot{R}=\\widehat{\\omega}R$.\n",
        "\n",
        "\n",
        "\n",
        "Putting these together we arrive at the fully determined set of coupled ODEs\n",
        "\\begin{align}\n",
        "\\dot{o}&=\\frac{1}{M}p-\\omega \\times \\bar{x}',\\\\\n",
        "\\dot{R}&=\\widehat{\\omega}R,\\\\\n",
        "\\dot{p}&=f^e,\\\\\n",
        "\\dot{\\pi}&=\\omega \\times \\bar{x}'\\times p+\\tau_e\n",
        "\\end{align}\n",
        "where\n",
        "\\begin{align}\n",
        "\\bar{x}'(t)&=R(t)\\bar{X},\\\\\n",
        "\\omega &=(\\mathbb{I}_c^R)^{-1}\\left(\\pi-\\bar{x}'\\times p\\right).\n",
        "\\end{align}\n",
        "Solving the above equations one can obtain $R(t)$ and $o(t)$ and hence uniquely describe the motion of the rigid body.\n",
        "\n",
        "\n",
        "Note that if one choses to **take the moments about the center of mass**  of the rigid body then then the above equations become even simpler:\n",
        "\n",
        "\\begin{align}\n",
        "\\dot{o}&=\\frac{1}{M}p\\\\\n",
        "\\dot{R}&=\\widehat{\\omega}R,\\\\\n",
        "\\dot{p}&=f^e,\\\\\n",
        "\\dot{\\pi}&=\\tau_e,\n",
        "\\end{align}\n",
        "and\n",
        "\\begin{align}\n",
        "\\omega &=(\\mathbb{I}_c^R)^{-1}\\pi.\n",
        "\\end{align}\n",
        "Equations of systems don't come any simpler than this!!!\n",
        "\n",
        "These simple expressions are valid for any rigid body motion and we will use them heavily in our controller development and simulation of rigid body motion."
      ],
      "metadata": {
        "id": "fqwz5Y9vESh9"
      }
    },
    {
      "cell_type": "markdown",
      "source": [
        "Recall that the general rigid body equations in the $\\mathbf{e}$-frame are given by\n",
        "\\begin{align}\n",
        "\\dot{o}&=\\frac{1}{M}p-\\omega \\times \\bar{x}',\\\\\n",
        "\\dot{R}&=\\widehat{\\omega}R,\\\\\n",
        "\\dot{p}&=f^e,\\\\\n",
        "\\dot{\\pi}&=\\omega \\times \\bar{x}'\\times p+\\tau_e\n",
        "\\end{align}\n",
        "where\n",
        "\\begin{align}\n",
        "\\bar{x}'(t)&=R(t)\\bar{X},\\\\\n",
        "\\omega &=(\\mathbb{I}_c^R)^{-1}\\left(\\pi-\\bar{x}'\\times p\\right).\n",
        "\\end{align}"
      ],
      "metadata": {
        "id": "SiL8k821EZBc"
      }
    },
    {
      "cell_type": "markdown",
      "source": [
        "---"
      ],
      "metadata": {
        "id": "pK-erfQ4EaYI"
      }
    },
    {
      "cell_type": "markdown",
      "source": [
        "#Task#2"
      ],
      "metadata": {
        "id": "PT5T8y9-3h1H"
      }
    },
    {
      "cell_type": "markdown",
      "source": [
        "Simulate the motion of a quadrotor UAV without resorting any parameterization of $SO(3)$ such as Euler angles or quaternions."
      ],
      "metadata": {
        "id": "iETMxXB04IZj"
      }
    },
    {
      "cell_type": "markdown",
      "source": [
        "#Task#3"
      ],
      "metadata": {
        "id": "iYtoUarB4L6Q"
      }
    },
    {
      "cell_type": "markdown",
      "source": [
        "Deerive a PID controller for the attitude control of a quadrorotor and use simulations to demibstrate the very large region of stability of the controller"
      ],
      "metadata": {
        "id": "AxOY5o-34TCz"
      }
    },
    {
      "cell_type": "markdown",
      "source": [
        "Here are few example our own implementations of this controller.\n",
        "\n",
        "* https://youtu.be/6E9WDQNVSYA\n",
        "* https://youtu.be/uUKxXImRMOA\n",
        "* https://youtu.be/zq05N8m_9SA\n",
        "* https://youtu.be/J5dThZGZN2g\n",
        "* https://youtu.be/J5MMp6Be3tU\n",
        "* https://youtu.be/6ZQgE1FI6Wc"
      ],
      "metadata": {
        "id": "cInu25giFEXw"
      }
    },
    {
      "cell_type": "markdown",
      "source": [
        "#Task#4"
      ],
      "metadata": {
        "id": "o6XRW2MR4nVw"
      }
    },
    {
      "cell_type": "markdown",
      "source": [
        "Derive a specialization of the controller develoed in Task#3 for the problem of stabilzing an inverted pendulum on a cart."
      ],
      "metadata": {
        "id": "u9vdw-yM4rem"
      }
    },
    {
      "cell_type": "markdown",
      "source": [
        "#Task#5"
      ],
      "metadata": {
        "id": "jkEiEv8sEPhG"
      }
    },
    {
      "cell_type": "markdown",
      "source": [
        " Experimentally verify the stability properties of the controller derived in Task#5 using the experimental setup available in the applied mechanics lab."
      ],
      "metadata": {
        "id": "w2WRdKSTEQ7i"
      }
    }
  ]
}